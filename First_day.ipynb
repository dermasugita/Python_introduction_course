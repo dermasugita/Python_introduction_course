{
  "nbformat": 4,
  "nbformat_minor": 0,
  "metadata": {
    "colab": {
      "name": "First_day.ipynb",
      "provenance": [],
      "collapsed_sections": [],
      "authorship_tag": "ABX9TyNzAQnga7gIWeKqKi/XkJLy",
      "include_colab_link": true
    },
    "kernelspec": {
      "name": "python3",
      "display_name": "Python 3"
    }
  },
  "cells": [
    {
      "cell_type": "markdown",
      "metadata": {
        "id": "view-in-github",
        "colab_type": "text"
      },
      "source": [
        "<a href=\"https://colab.research.google.com/github/dermasugita/Python_introduction_course/blob/master/First_day.ipynb\" target=\"_parent\"><img src=\"https://colab.research.google.com/assets/colab-badge.svg\" alt=\"Open In Colab\"/></a>"
      ]
    },
    {
      "cell_type": "markdown",
      "metadata": {
        "id": "jCrnXLl6vVUu",
        "colab_type": "text"
      },
      "source": [
        "# Python入門勉強会1日目\n",
        "プログラミングの基本を身につける"
      ]
    },
    {
      "cell_type": "markdown",
      "metadata": {
        "id": "ZdrK1JR0vnuV",
        "colab_type": "text"
      },
      "source": [
        "## 文章を出力してみよう"
      ]
    },
    {
      "cell_type": "code",
      "metadata": {
        "id": "qy0RQVr5rSsa",
        "colab_type": "code",
        "outputId": "028e5a6f-34de-4246-c756-d28fee1a6959",
        "colab": {
          "base_uri": "https://localhost:8080/",
          "height": 35
        }
      },
      "source": [
        "print('いつもお世話になっております。')"
      ],
      "execution_count": 0,
      "outputs": [
        {
          "output_type": "stream",
          "text": [
            "いつもお世話になっております。\n"
          ],
          "name": "stdout"
        }
      ]
    },
    {
      "cell_type": "code",
      "metadata": {
        "id": "cL-F-3uNv1VV",
        "colab_type": "code",
        "outputId": "79be1032-4c3e-486e-ba7d-ebeb6b91f67a",
        "colab": {
          "base_uri": "https://localhost:8080/",
          "height": 34
        }
      },
      "source": [
        "print('医学科6年の杉田一毅です。')"
      ],
      "execution_count": 0,
      "outputs": [
        {
          "output_type": "stream",
          "text": [
            "医学科6年の杉田一毅です。\n"
          ],
          "name": "stdout"
        }
      ]
    },
    {
      "cell_type": "markdown",
      "metadata": {
        "id": "Ccr9fnWr9LQ-",
        "colab_type": "text"
      },
      "source": [
        "printがなくても出力される。"
      ]
    },
    {
      "cell_type": "code",
      "metadata": {
        "id": "PGrKxVq09HXA",
        "colab_type": "code",
        "outputId": "aff98fd5-4a46-40e3-a143-a63bd9bc123c",
        "colab": {
          "base_uri": "https://localhost:8080/",
          "height": 34
        }
      },
      "source": [
        "'医学科6年の杉田一毅です。'"
      ],
      "execution_count": 0,
      "outputs": [
        {
          "output_type": "execute_result",
          "data": {
            "text/plain": [
              "'医学科6年の杉田一毅です。'"
            ]
          },
          "metadata": {
            "tags": []
          },
          "execution_count": 32
        }
      ]
    },
    {
      "cell_type": "markdown",
      "metadata": {
        "id": "VMycCwOS4hO8",
        "colab_type": "text"
      },
      "source": [
        "文字列は+演算子でつなげることができる。"
      ]
    },
    {
      "cell_type": "code",
      "metadata": {
        "id": "WPiVoew94aEP",
        "colab_type": "code",
        "outputId": "72ff510c-e6ef-4385-91d9-dabd008f6964",
        "colab": {
          "base_uri": "https://localhost:8080/",
          "height": 34
        }
      },
      "source": [
        "print('いつもお世話になっております。' + '医学科6年の杉田一毅です。')"
      ],
      "execution_count": 0,
      "outputs": [
        {
          "output_type": "stream",
          "text": [
            "いつもお世話になっております。医学科6年の杉田一毅です。\n"
          ],
          "name": "stdout"
        }
      ]
    },
    {
      "cell_type": "markdown",
      "metadata": {
        "id": "dSQtr9Y8yMDI",
        "colab_type": "text"
      },
      "source": [
        "## 計算をしてみよう"
      ]
    },
    {
      "cell_type": "code",
      "metadata": {
        "id": "WYJrtE_byOWl",
        "colab_type": "code",
        "outputId": "9bfc4026-8c69-4593-e668-a745a169879c",
        "colab": {
          "base_uri": "https://localhost:8080/",
          "height": 35
        }
      },
      "source": [
        "print(1 + 1)"
      ],
      "execution_count": 0,
      "outputs": [
        {
          "output_type": "stream",
          "text": [
            "2\n"
          ],
          "name": "stdout"
        }
      ]
    },
    {
      "cell_type": "markdown",
      "metadata": {
        "id": "Di088SoByjcZ",
        "colab_type": "text"
      },
      "source": [
        "printがなくても出力される"
      ]
    },
    {
      "cell_type": "code",
      "metadata": {
        "id": "NibgSx-9ya9h",
        "colab_type": "code",
        "outputId": "c560afe6-cfed-4e7b-ad76-52db9071bc27",
        "colab": {
          "base_uri": "https://localhost:8080/",
          "height": 35
        }
      },
      "source": [
        "1 + 1"
      ],
      "execution_count": 0,
      "outputs": [
        {
          "output_type": "execute_result",
          "data": {
            "text/plain": [
              "2"
            ]
          },
          "metadata": {
            "tags": []
          },
          "execution_count": 8
        }
      ]
    },
    {
      "cell_type": "markdown",
      "metadata": {
        "id": "zq_3aMwIyvC7",
        "colab_type": "text"
      },
      "source": [
        "### 演算子\n",
        "\n",
        "| 演算方法 | 足し算 | 引き算 | 掛け算 | 累乗 | 割り算 | 剰余 | 整数商 |\n",
        "| --- | --- | --- | --- | --- | --- | --- | --- |\n",
        "| 演算子 | + | - | * | ** | / | % | // |"
      ]
    },
    {
      "cell_type": "code",
      "metadata": {
        "id": "o-1taVLJyoyO",
        "colab_type": "code",
        "outputId": "6992d578-7f45-4bcf-8c08-b47f9255b769",
        "colab": {
          "base_uri": "https://localhost:8080/",
          "height": 34
        }
      },
      "source": [
        "1 + 2 * 3"
      ],
      "execution_count": 0,
      "outputs": [
        {
          "output_type": "execute_result",
          "data": {
            "text/plain": [
              "7"
            ]
          },
          "metadata": {
            "tags": []
          },
          "execution_count": 10
        }
      ]
    },
    {
      "cell_type": "code",
      "metadata": {
        "id": "tCv2CyKB3pw_",
        "colab_type": "code",
        "outputId": "bca7c944-2f11-4604-d9d6-5dda57081443",
        "colab": {
          "base_uri": "https://localhost:8080/",
          "height": 34
        }
      },
      "source": [
        "7 // 3"
      ],
      "execution_count": 0,
      "outputs": [
        {
          "output_type": "execute_result",
          "data": {
            "text/plain": [
              "2"
            ]
          },
          "metadata": {
            "tags": []
          },
          "execution_count": 11
        }
      ]
    },
    {
      "cell_type": "markdown",
      "metadata": {
        "id": "I8piDHyWxZUo",
        "colab_type": "text"
      },
      "source": [
        "## 変数を利用してみよう\n",
        "\n",
        "プログラミングでは、**「=」は等号を意味しない**。\n",
        "**「=」は代入を意味する**。\n",
        "\n"
      ]
    },
    {
      "cell_type": "code",
      "metadata": {
        "id": "HXNlDi0Lv71_",
        "colab_type": "code",
        "colab": {}
      },
      "source": [
        "initial_greeting = 'いつもお世話になっております。'\n",
        "grade = 5\n",
        "my_name = '杉田一毅'"
      ],
      "execution_count": 0,
      "outputs": []
    },
    {
      "cell_type": "code",
      "metadata": {
        "id": "oExV3vnHxjAm",
        "colab_type": "code",
        "outputId": "7dc5e6eb-dd8e-4773-f4e2-9ff92c138a8e",
        "colab": {
          "base_uri": "https://localhost:8080/",
          "height": 68
        }
      },
      "source": [
        "print(initial_greeting)\n",
        "print(grade)\n",
        "print(my_name)"
      ],
      "execution_count": 0,
      "outputs": [
        {
          "output_type": "stream",
          "text": [
            "いつもお世話になっております。\n",
            "5\n",
            "杉田一毅\n"
          ],
          "name": "stdout"
        }
      ]
    },
    {
      "cell_type": "code",
      "metadata": {
        "id": "LtErXMV5-eCl",
        "colab_type": "code",
        "outputId": "0bba7da9-8070-4e5e-cff5-c21965cbac79",
        "colab": {
          "base_uri": "https://localhost:8080/",
          "height": 34
        }
      },
      "source": [
        "grade = grade + 1\n",
        "print(grade)"
      ],
      "execution_count": 0,
      "outputs": [
        {
          "output_type": "stream",
          "text": [
            "6\n"
          ],
          "name": "stdout"
        }
      ]
    },
    {
      "cell_type": "markdown",
      "metadata": {
        "id": "liv6imOg5QPY",
        "colab_type": "text"
      },
      "source": [
        "つなげてみる"
      ]
    },
    {
      "cell_type": "code",
      "metadata": {
        "id": "IH-dDb9KxkSf",
        "colab_type": "code",
        "outputId": "c641d53b-457b-436e-f0e9-2e3be5cf9392",
        "colab": {
          "base_uri": "https://localhost:8080/",
          "height": 168
        }
      },
      "source": [
        "initial_greeting + '医学科' + grade + '年の' + my_name + 'です。'"
      ],
      "execution_count": 0,
      "outputs": [
        {
          "output_type": "error",
          "ename": "TypeError",
          "evalue": "ignored",
          "traceback": [
            "\u001b[0;31m---------------------------------------------------------------------------\u001b[0m",
            "\u001b[0;31mTypeError\u001b[0m                                 Traceback (most recent call last)",
            "\u001b[0;32m<ipython-input-17-f118956a2444>\u001b[0m in \u001b[0;36m<module>\u001b[0;34m()\u001b[0m\n\u001b[0;32m----> 1\u001b[0;31m \u001b[0minitial_greeting\u001b[0m \u001b[0;34m+\u001b[0m \u001b[0;34m'医学科'\u001b[0m \u001b[0;34m+\u001b[0m \u001b[0mgrade\u001b[0m \u001b[0;34m+\u001b[0m \u001b[0;34m'年の'\u001b[0m \u001b[0;34m+\u001b[0m \u001b[0mmy_name\u001b[0m \u001b[0;34m+\u001b[0m \u001b[0;34m'です。'\u001b[0m\u001b[0;34m\u001b[0m\u001b[0;34m\u001b[0m\u001b[0m\n\u001b[0m",
            "\u001b[0;31mTypeError\u001b[0m: must be str, not int"
          ]
        }
      ]
    },
    {
      "cell_type": "markdown",
      "metadata": {
        "id": "YVNgE9PO5Z3R",
        "colab_type": "text"
      },
      "source": [
        "## データ型\n",
        "\n",
        "代表的なデータ型：\n",
        "\n",
        "| データ型 | 整数型 | 実数型 | 文字列型 |\n",
        "| --- | --- | --- | --- |\n",
        "| 記号 | int | float | str |\n",
        "\n",
        "データ型を調べてみましょう。"
      ]
    },
    {
      "cell_type": "code",
      "metadata": {
        "id": "Z6W08NMC7KVg",
        "colab_type": "code",
        "outputId": "96017e2e-068e-40fe-a7de-38688b93f828",
        "colab": {
          "base_uri": "https://localhost:8080/",
          "height": 68
        }
      },
      "source": [
        "print(type(initial_greeting))\n",
        "print(type(grade))\n",
        "print(type(my_name))"
      ],
      "execution_count": 0,
      "outputs": [
        {
          "output_type": "stream",
          "text": [
            "<class 'str'>\n",
            "<class 'int'>\n",
            "<class 'str'>\n"
          ],
          "name": "stdout"
        }
      ]
    },
    {
      "cell_type": "markdown",
      "metadata": {
        "id": "aeGvdodV73sq",
        "colab_type": "text"
      },
      "source": [
        "Pythonではint型とstr型を+でつなげることができません。\n",
        "\n",
        "今回は部品を文字列としてつなぎたいので、int型であるgrade変数をstr型に変換してから結合します。"
      ]
    },
    {
      "cell_type": "code",
      "metadata": {
        "id": "6_68EVzC7ek9",
        "colab_type": "code",
        "outputId": "52f0a82c-0671-4065-c60a-209202c7af1b",
        "colab": {
          "base_uri": "https://localhost:8080/",
          "height": 34
        }
      },
      "source": [
        "initial_greeting + '医学科' + str(grade) + '年の' + my_name + 'です。'"
      ],
      "execution_count": 0,
      "outputs": [
        {
          "output_type": "execute_result",
          "data": {
            "text/plain": [
              "'いつもお世話になっております。医学科6年の杉田一毅です。'"
            ]
          },
          "metadata": {
            "tags": []
          },
          "execution_count": 30
        }
      ]
    },
    {
      "cell_type": "markdown",
      "metadata": {
        "id": "Nsl5MyH48-c0",
        "colab_type": "text"
      },
      "source": [
        "今後便利になりそうなので、"
      ]
    },
    {
      "cell_type": "markdown",
      "metadata": {
        "id": "CrG3wDSZ81rv",
        "colab_type": "text"
      },
      "source": [
        "### 変数の更新\n",
        "\n",
        "変数はいつでも更新できる"
      ]
    },
    {
      "cell_type": "code",
      "metadata": {
        "id": "5jt3IqmA8QuS",
        "colab_type": "code",
        "colab": {}
      },
      "source": [
        "initial_greeting = '平素大変お世話になっております。'\n",
        "grade = 3\n",
        "my_name = '佐々木助三郎'"
      ],
      "execution_count": 0,
      "outputs": []
    },
    {
      "cell_type": "code",
      "metadata": {
        "id": "hUqslqfk87xj",
        "colab_type": "code",
        "outputId": "2ed52ccb-4178-4d93-a9ee-9020140e3d6f",
        "colab": {
          "base_uri": "https://localhost:8080/",
          "height": 34
        }
      },
      "source": [
        "initial_greeting + '医学科' + str(grade) + '年の' + my_name + 'です。'"
      ],
      "execution_count": 0,
      "outputs": [
        {
          "output_type": "execute_result",
          "data": {
            "text/plain": [
              "'平素大変お世話になっております。医学科4年の渥美格之進です。'"
            ]
          },
          "metadata": {
            "tags": []
          },
          "execution_count": 45
        }
      ]
    },
    {
      "cell_type": "code",
      "metadata": {
        "id": "HR6aoSAz-Y1F",
        "colab_type": "code",
        "outputId": "a72504e1-afef-4d0c-d537-abaf1b78c758",
        "colab": {
          "base_uri": "https://localhost:8080/",
          "height": 34
        }
      },
      "source": [
        "grade = 4\n",
        "my_name = '渥美格之進'\n",
        "initial_greeting + '医学科' + str(grade) + '年の' + my_name + 'です。'"
      ],
      "execution_count": 0,
      "outputs": [
        {
          "output_type": "execute_result",
          "data": {
            "text/plain": [
              "'平素大変お世話になっております。医学科4年の渥美格之進です。'"
            ]
          },
          "metadata": {
            "tags": []
          },
          "execution_count": 44
        }
      ]
    },
    {
      "cell_type": "markdown",
      "metadata": {
        "id": "KkHtP-Iw-6so",
        "colab_type": "text"
      },
      "source": [
        "## 関数を定義する\n",
        "\n",
        "変数を定義した後、毎回のように、\n",
        "\n",
        "```\n",
        "initial_greeting + '医学科' + str(grade) + '年の' + my_name + 'です。'\n",
        "```\n",
        "\n",
        "と入力するのは面倒です。\n",
        "\n",
        "なので関数を定義してもっと楽にしたいと思います。\n",
        "\n",
        "その前にまずは、少し関数に慣れましょう。"
      ]
    },
    {
      "cell_type": "code",
      "metadata": {
        "id": "Ug786anB-3RF",
        "colab_type": "code",
        "colab": {}
      },
      "source": [
        "def greeting():\n",
        "  print('いつもお世話になっております。')"
      ],
      "execution_count": 0,
      "outputs": []
    },
    {
      "cell_type": "code",
      "metadata": {
        "id": "SsueQ435_foY",
        "colab_type": "code",
        "outputId": "05daabc7-7641-4d53-9f20-ee64004cd50b",
        "colab": {
          "base_uri": "https://localhost:8080/",
          "height": 34
        }
      },
      "source": [
        "greeting()"
      ],
      "execution_count": 0,
      "outputs": [
        {
          "output_type": "stream",
          "text": [
            "いつもお世話になっております。\n"
          ],
          "name": "stdout"
        }
      ]
    },
    {
      "cell_type": "markdown",
      "metadata": {
        "id": "EAYMFW1DAVd4",
        "colab_type": "text"
      },
      "source": [
        "関数は引数をとることができる。"
      ]
    },
    {
      "cell_type": "code",
      "metadata": {
        "id": "KfuX_5ga_sCg",
        "colab_type": "code",
        "colab": {}
      },
      "source": [
        "def doubling(num):\n",
        "  print(num * 2)"
      ],
      "execution_count": 0,
      "outputs": []
    },
    {
      "cell_type": "code",
      "metadata": {
        "id": "aUe5BsudAASo",
        "colab_type": "code",
        "outputId": "6d1d7c00-2fcd-4400-9f28-5ec728f34307",
        "colab": {
          "base_uri": "https://localhost:8080/",
          "height": 34
        }
      },
      "source": [
        "doubling(125)"
      ],
      "execution_count": 0,
      "outputs": [
        {
          "output_type": "stream",
          "text": [
            "250\n"
          ],
          "name": "stdout"
        }
      ]
    },
    {
      "cell_type": "markdown",
      "metadata": {
        "id": "94nUxbZSAZeQ",
        "colab_type": "text"
      },
      "source": [
        "引数は何個でも良い"
      ]
    },
    {
      "cell_type": "code",
      "metadata": {
        "id": "SooGl3grAPmh",
        "colab_type": "code",
        "colab": {}
      },
      "source": [
        "def add_five_numbers(a, b, c, d, e):\n",
        "  print(a + b + c + d + e)"
      ],
      "execution_count": 0,
      "outputs": []
    },
    {
      "cell_type": "code",
      "metadata": {
        "id": "lz5uPmimAik2",
        "colab_type": "code",
        "outputId": "8b8280e1-fd14-4ec2-a7ee-928fc0e5cdd0",
        "colab": {
          "base_uri": "https://localhost:8080/",
          "height": 34
        }
      },
      "source": [
        "add_five_numbers(2,6,4,7,9)"
      ],
      "execution_count": 0,
      "outputs": [
        {
          "output_type": "stream",
          "text": [
            "28\n"
          ],
          "name": "stdout"
        }
      ]
    },
    {
      "cell_type": "code",
      "metadata": {
        "id": "S1UcYTdBAlXb",
        "colab_type": "code",
        "colab": {}
      },
      "source": [
        ""
      ],
      "execution_count": 0,
      "outputs": []
    }
  ]
}